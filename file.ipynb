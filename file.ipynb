{
 "cells": [
  {
   "cell_type": "markdown",
   "metadata": {},
   "source": [
    "## 1. Import libraries and read the data\n",
    "\n",
    "To begin, we import the following libraries."
   ]
  },
  {
   "cell_type": "code",
   "execution_count": null,
   "metadata": {},
   "outputs": [
    {
     "name": "stdout",
     "output_type": "stream",
     "text": [
      "CSV file with ID and random numbers saved as 'output.csv'.\n"
     ]
    }
   ],
   "source": [
    "import pandas as pd\n",
    "import numpy as np"
   ]
  },
  {
   "cell_type": "code",
   "execution_count": null,
   "metadata": {},
   "outputs": [],
   "source": [
    "# Load the training data\n",
    "train_path = \"train_campusrecruit.csv\"\n",
    "df_train = pd.read_csv(train_path)\n",
    "\n",
    "# Clean training data\n",
    "df_train = df_train.dropna(subset=['status'])\n",
    "df_train['status'] = df_train['status'].map({'Placed': 1, 'Not Placed': 0})\n",
    "df_train['gender'] = df_train['gender'].map({'M': 1, 'F': 0})\n",
    "df_train['ssc_b'] = df_train['ssc_b'].map({'Central': 1, 'Others': 0})\n",
    "df_train['hsc_b'] = df_train['hsc_b'].map({'Central': 1, 'Others': 0})\n",
    "df_train['workex'] = df_train['workex'].map({'Yes': 1, 'No': 0})\n",
    "\n",
    "# Select relevant features with weights based on correlation\n",
    "features = ['gender', 'ssc_p', 'ssc_b', 'hsc_p', 'hsc_b', 'degree_p', 'workex', 'etest_p', 'mba_p']\n",
    "weights = {'gender': -0.05, 'ssc_p': 0.35, 'ssc_b': 0.01, 'hsc_p': 0.26, 'hsc_b': 0.06, \n",
    "           'degree_p': 0.32, 'workex': 0.02, 'etest_p': 0.07, 'mba_p': 0}\n",
    "\n",
    "# Apply weighting to features\n",
    "X_train = df_train[features].copy()\n",
    "for col in features:\n",
    "    X_train[col] *= weights[col]\n",
    "\n",
    "y_train = df_train['status']\n",
    "\n",
    "# Train a simple Logistic Regression model\n",
    "from sklearn.linear_model import LogisticRegression\n",
    "model = LogisticRegression()\n",
    "model.fit(X_train, y_train)\n",
    "\n",
    "# Load the test data\n",
    "test_path = \"test_campusrecruit.csv\"\n",
    "df_test = pd.read_csv(test_path)\n",
    "\n",
    "# Process test data\n",
    "df_test['gender'] = df_test['gender'].map({'M': 1, 'F': 0})\n",
    "df_test['ssc_b'] = df_test['ssc_b'].map({'Central': 1, 'Others': 0})\n",
    "df_test['hsc_b'] = df_test['hsc_b'].map({'Central': 1, 'Others': 0})\n",
    "df_test['workex'] = df_test['workex'].map({'Yes': 1, 'No': 0})\n",
    "\n",
    "X_test = df_test[features].copy()\n",
    "for col in features:\n",
    "    X_test[col] *= weights[col]\n",
    "\n",
    "# Predict placement status\n",
    "df_test['status'] = model.predict(X_test)\n",
    "df_test['status'] = df_test['status'].map({1: 'Placed', 0: 'Not Placed'})\n",
    "\n",
    "\n",
    "\n",
    "\n"
   ]
  },
  {
   "cell_type": "code",
   "execution_count": null,
   "metadata": {},
   "outputs": [],
   "source": [
    "# Save predictions\n",
    "df_test[['id', 'status']].to_csv(\"sample_submission.csv\", index=False)\n",
    "\n",
    "print(\"Predictions saved to sample_submission.csv\")"
   ]
  }
 ],
 "metadata": {
  "kernelspec": {
   "display_name": "Python 3",
   "language": "python",
   "name": "python3"
  },
  "language_info": {
   "codemirror_mode": {
    "name": "ipython",
    "version": 3
   },
   "file_extension": ".py",
   "mimetype": "text/x-python",
   "name": "python",
   "nbconvert_exporter": "python",
   "pygments_lexer": "ipython3",
   "version": "3.12.6"
  }
 },
 "nbformat": 4,
 "nbformat_minor": 2
}
