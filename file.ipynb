{
 "cells": [
  {
   "cell_type": "code",
   "execution_count": 12,
   "metadata": {},
   "outputs": [
    {
     "name": "stdout",
     "output_type": "stream",
     "text": [
      "CSV file with ID and random numbers saved as 'output.csv'.\n"
     ]
    }
   ],
   "source": [
    "import pandas as pd\n",
    "import random\n",
    "\n",
    "# Read the input CSV file\n",
    "df = pd.read_csv('test_campusrecruit.csv')\n",
    "\n",
    "# Ensure the 'ID' column is preserved\n",
    "if 'id' not in df.columns:\n",
    "    raise ValueError(\"The input CSV must have an 'ID' column.\")\n",
    "\n",
    "# Generate a list of random integers\n",
    "random_numbers = [random.randint(0, 1) for _ in range(len(df))]\n",
    "\n",
    "# Create a new DataFrame with ID and random numbers\n",
    "output_df = pd.DataFrame({\n",
    "    'id': df['id'],  # Keep the original ID column\n",
    "    'Random_Number': random_numbers\n",
    "})\n",
    "\n",
    "# Save to output.csv\n",
    "output_df.to_csv('sample_submission.csv', index=False)\n",
    "\n",
    "print(\"CSV file with ID and random numbers saved as 'output.csv'.\")\n"
   ]
  }
 ],
 "metadata": {
  "kernelspec": {
   "display_name": ".venv",
   "language": "python",
   "name": "python3"
  },
  "language_info": {
   "codemirror_mode": {
    "name": "ipython",
    "version": 3
   },
   "file_extension": ".py",
   "mimetype": "text/x-python",
   "name": "python",
   "nbconvert_exporter": "python",
   "pygments_lexer": "ipython3",
   "version": "3.12.6"
  }
 },
 "nbformat": 4,
 "nbformat_minor": 2
}
